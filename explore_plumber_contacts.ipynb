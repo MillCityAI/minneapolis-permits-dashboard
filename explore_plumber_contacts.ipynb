{
 "cells": [
  {
   "cell_type": "markdown",
   "metadata": {},
   "source": [
    "# Explore Plumber Contact Files\n",
    "\n",
    "This notebook imports and displays the first 10 lines of various plumber contact files."
   ]
  },
  {
   "cell_type": "code",
   "execution_count": null,
   "metadata": {},
   "outputs": [],
   "source": [
    "import pandas as pd\n",
    "import os\n",
    "from pathlib import Path"
   ]
  },
  {
   "cell_type": "markdown",
   "metadata": {},
   "source": [
    "## 1. Active Plumbers Batch (TXT File)"
   ]
  },
  {
   "cell_type": "code",
   "execution_count": null,
   "metadata": {},
   "outputs": [],
   "source": [
    "# Read the active plumbers batch text file\n",
    "print(\"=== ACTIVE PLUMBERS BATCH (active_plumbers_batch.txt) ===\")\n",
    "print(\"\\nFirst 10 lines:\")\n",
    "print(\"-\" * 50)\n",
    "\n",
    "with open('active_plumbers_batch.txt', 'r') as f:\n",
    "    for i, line in enumerate(f):\n",
    "        if i < 10:\n",
    "            print(f\"{i+1}: {line.strip()}\")\n",
    "        else:\n",
    "            break\n",
    "\n",
    "# Get total line count\n",
    "with open('active_plumbers_batch.txt', 'r') as f:\n",
    "    total_lines = sum(1 for line in f)\n",
    "print(f\"\\nTotal lines in file: {total_lines}\")"
   ]
  },
  {
   "cell_type": "markdown",
   "metadata": {},
   "source": [
    "## 2. Plumber Contacts Active Only (CSV)"
   ]
  },
  {
   "cell_type": "code",
   "execution_count": null,
   "metadata": {},
   "outputs": [],
   "source": [
    "# Read the active only plumber contacts CSV\n",
    "print(\"\\n=== PLUMBER CONTACTS ACTIVE ONLY (plumber_contacts_active_only_Claude.csv) ===\")\n",
    "\n",
    "df_active = pd.read_csv('plumber_contacts_active_only_Claude.csv')\n",
    "print(f\"\\nShape: {df_active.shape}\")\n",
    "print(f\"Columns: {list(df_active.columns)}\")\n",
    "print(\"\\nFirst 10 rows:\")\n",
    "print(\"-\" * 50)\n",
    "df_active.head(10)"
   ]
  },
  {
   "cell_type": "markdown",
   "metadata": {},
   "source": [
    "## 3. Full Plumber Contacts (CSV)"
   ]
  },
  {
   "cell_type": "code",
   "execution_count": null,
   "metadata": {},
   "outputs": [],
   "source": [
    "# Read the full plumber contacts CSV\n",
    "print(\"\\n=== FULL PLUMBER CONTACTS (plumber_contacts_Claude.csv) ===\")\n",
    "\n",
    "df_full = pd.read_csv('plumber_contacts_Claude.csv')\n",
    "print(f\"\\nShape: {df_full.shape}\")\n",
    "print(f\"Columns: {list(df_full.columns)}\")\n",
    "print(\"\\nFirst 10 rows:\")\n",
    "print(\"-\" * 50)\n",
    "df_full.head(10)"
   ]
  },
  {
   "cell_type": "markdown",
   "metadata": {},
   "source": [
    "## 4. Plumber Contacts for Sheets (CSV)"
   ]
  },
  {
   "cell_type": "code",
   "execution_count": null,
   "metadata": {},
   "outputs": [],
   "source": [
    "# Read the plumber contacts for sheets CSV\n",
    "print(\"\\n=== PLUMBER CONTACTS FOR SHEETS (plumber_contacts_for_sheets.csv) ===\")\n",
    "\n",
    "df_sheets = pd.read_csv('plumber_contacts_for_sheets.csv')\n",
    "print(f\"\\nShape: {df_sheets.shape}\")\n",
    "print(f\"Columns: {list(df_sheets.columns)}\")\n",
    "print(\"\\nFirst 10 rows:\")\n",
    "print(\"-\" * 50)\n",
    "df_sheets.head(10)"
   ]
  },
  {
   "cell_type": "markdown",
   "metadata": {},
   "source": [
    "## 5. Compare File Structures"
   ]
  },
  {
   "cell_type": "code",
   "execution_count": null,
   "metadata": {},
   "outputs": [],
   "source": [
    "# Compare the structures of the CSV files\n",
    "print(\"\\n=== FILE COMPARISON ===\")\n",
    "print(\"\\nFile sizes:\")\n",
    "print(f\"- active_plumbers_batch.txt: {os.path.getsize('active_plumbers_batch.txt'):,} bytes\")\n",
    "print(f\"- plumber_contacts_active_only_Claude.csv: {os.path.getsize('plumber_contacts_active_only_Claude.csv'):,} bytes\")\n",
    "print(f\"- plumber_contacts_Claude.csv: {os.path.getsize('plumber_contacts_Claude.csv'):,} bytes\")\n",
    "print(f\"- plumber_contacts_for_sheets.csv: {os.path.getsize('plumber_contacts_for_sheets.csv'):,} bytes\")\n",
    "\n",
    "print(\"\\nRecord counts:\")\n",
    "print(f\"- plumber_contacts_active_only_Claude.csv: {len(df_active):,} rows\")\n",
    "print(f\"- plumber_contacts_Claude.csv: {len(df_full):,} rows\")\n",
    "print(f\"- plumber_contacts_for_sheets.csv: {len(df_sheets):,} rows\")\n",
    "\n",
    "# Check if the full and sheets versions are identical\n",
    "if df_full.equals(df_sheets):\n",
    "    print(\"\\n✓ plumber_contacts_Claude.csv and plumber_contacts_for_sheets.csv are IDENTICAL\")\n",
    "else:\n",
    "    print(\"\\n✗ plumber_contacts_Claude.csv and plumber_contacts_for_sheets.csv are DIFFERENT\")"
   ]
  },
  {
   "cell_type": "markdown",
   "metadata": {},
   "source": [
    "## 6. Data Quality Check"
   ]
  },
  {
   "cell_type": "code",
   "execution_count": null,
   "metadata": {},
   "outputs": [],
   "source": [
    "# Check for missing values in the active contacts\n",
    "print(\"\\n=== DATA QUALITY CHECK (Active Contacts) ===\")\n",
    "print(\"\\nMissing values per column:\")\n",
    "missing = df_active.isnull().sum()\n",
    "missing_pct = (missing / len(df_active) * 100).round(2)\n",
    "missing_df = pd.DataFrame({\n",
    "    'Missing Count': missing,\n",
    "    'Missing %': missing_pct\n",
    "})\n",
    "print(missing_df[missing_df['Missing Count'] > 0])\n",
    "\n",
    "# Sample of unique values for key columns\n",
    "if 'Status' in df_active.columns:\n",
    "    print(\"\\nUnique Status values:\")\n",
    "    print(df_active['Status'].value_counts())\n",
    "\n",
    "if 'City' in df_active.columns:\n",
    "    print(\"\\nTop 10 Cities:\")\n",
    "    print(df_active['City'].value_counts().head(10))"
   ]
  }
 ],
 "metadata": {
  "kernelspec": {
   "display_name": "Python 3",
   "language": "python",
   "name": "python3"
  },
  "language_info": {
   "codemirror_mode": {
    "name": "ipython",
    "version": 3
   },
   "file_extension": ".py",
   "mimetype": "text/x-python",
   "name": "python",
   "nbconvert_exporter": "python",
   "pygments_lexer": "ipython3",
   "version": "3.11.0"
  }
 },
 "nbformat": 4,
 "nbformat_minor": 4
}