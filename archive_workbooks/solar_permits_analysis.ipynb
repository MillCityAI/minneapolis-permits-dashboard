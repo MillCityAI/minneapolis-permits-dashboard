{
 "cells": [
  {
   "cell_type": "markdown",
   "metadata": {},
   "source": [
    "# Solar Panel Permits Analysis\n",
    "\n",
    "This notebook provides a detailed analysis of solar panel installation permits in the CCS permits dataset, examining trends, installers, locations, and system characteristics."
   ]
  },
  {
   "cell_type": "markdown",
   "metadata": {},
   "source": [
    "## 1. Setup and Data Loading"
   ]
  },
  {
   "cell_type": "code",
   "execution_count": null,
   "metadata": {},
   "outputs": [],
   "source": [
    "# Import required libraries\n",
    "import pandas as pd\n",
    "import numpy as np\n",
    "import matplotlib.pyplot as plt\n",
    "import seaborn as sns\n",
    "import re\n",
    "from datetime import datetime\n",
    "import warnings\n",
    "warnings.filterwarnings('ignore')\n",
    "\n",
    "# Set display options\n",
    "pd.set_option('display.max_columns', None)\n",
    "pd.set_option('display.max_colwidth', 150)\n",
    "\n",
    "# Set style for plots\n",
    "plt.style.use('seaborn-v0_8-darkgrid')\n",
    "sns.set_palette('husl')"
   ]
  },
  {
   "cell_type": "code",
   "execution_count": null,
   "metadata": {},
   "outputs": [],
   "source": [
    "# Load the dataset\n",
    "df = pd.read_csv('source/CCS_Permits.csv')\n",
    "print(f\"Total permits in dataset: {len(df):,}\")\n",
    "\n",
    "# Convert date columns\n",
    "df['issueDate'] = pd.to_datetime(df['issueDate'], errors='coerce')\n",
    "df['completeDate'] = pd.to_datetime(df['completeDate'], errors='coerce')"
   ]
  },
  {
   "cell_type": "markdown",
   "metadata": {},
   "source": [
    "## 2. Identifying Solar Permits"
   ]
  },
  {
   "cell_type": "code",
   "execution_count": null,
   "metadata": {},
   "outputs": [],
   "source": [
    "# Search for solar-related permits using multiple keywords\n",
    "solar_keywords = ['solar', 'Solar', 'SOLAR', 'photovoltaic', 'PV', 'panel']\n",
    "solar_mask = df['comments'].str.contains('|'.join(solar_keywords), case=False, na=False)\n",
    "solar_permits = df[solar_mask].copy()\n",
    "\n",
    "print(f\"Total number of solar permits found: {len(solar_permits):,}\")\n",
    "print(f\"Percentage of total permits: {len(solar_permits)/len(df)*100:.2f}%\")\n",
    "print(f\"\\nDate range of solar permits: {solar_permits['issueDate'].min()} to {solar_permits['issueDate'].max()}\")"
   ]
  },
  {
   "cell_type": "code",
   "execution_count": null,
   "metadata": {},
   "outputs": [],
   "source": [
    "# Display sample solar permit comments\n",
    "print(\"Sample solar permit descriptions:\")\n",
    "print(\"=\" * 80)\n",
    "for i, (idx, row) in enumerate(solar_permits.head(5).iterrows()):\n",
    "    print(f\"\\n{i+1}. Permit #{row['permitNumber']}\")\n",
    "    print(f\"   Address: {row['Display']}\")\n",
    "    print(f\"   Comment: {row['comments'][:200]}...\")"
   ]
  },
  {
   "cell_type": "markdown",
   "metadata": {},
   "source": [
    "## 3. Temporal Analysis of Solar Permits"
   ]
  },
  {
   "cell_type": "code",
   "execution_count": null,
   "metadata": {},
   "outputs": [],
   "source": [
    "# Extract year and month from issue dates\n",
    "solar_permits['issue_year'] = solar_permits['issueDate'].dt.year\n",
    "solar_permits['issue_month'] = solar_permits['issueDate'].dt.month\n",
    "solar_permits['issue_quarter'] = solar_permits['issueDate'].dt.quarter\n",
    "\n",
    "# Analyze solar permits by year\n",
    "solar_by_year = solar_permits['issue_year'].value_counts().sort_index()\n",
    "print(\"Solar permits by year:\")\n",
    "print(solar_by_year)"
   ]
  },
  {
   "cell_type": "code",
   "execution_count": null,
   "metadata": {},
   "outputs": [],
   "source": [
    "# Create comprehensive temporal visualization\n",
    "fig, axes = plt.subplots(2, 2, figsize=(15, 10))\n",
    "\n",
    "# Yearly trend\n",
    "solar_by_year.plot(kind='line', ax=axes[0, 0], marker='o', linewidth=2, markersize=8, color='orange')\n",
    "axes[0, 0].set_title('Solar Permits by Year', fontsize=14)\n",
    "axes[0, 0].set_xlabel('Year')\n",
    "axes[0, 0].set_ylabel('Number of Permits')\n",
    "axes[0, 0].grid(True, alpha=0.3)\n",
    "\n",
    "# Monthly distribution\n",
    "monthly_solar = solar_permits['issue_month'].value_counts().sort_index()\n",
    "month_names = ['Jan', 'Feb', 'Mar', 'Apr', 'May', 'Jun', 'Jul', 'Aug', 'Sep', 'Oct', 'Nov', 'Dec']\n",
    "axes[0, 1].bar(monthly_solar.index, monthly_solar.values, color='skyblue')\n",
    "axes[0, 1].set_title('Solar Permits by Month (All Years)', fontsize=14)\n",
    "axes[0, 1].set_xlabel('Month')\n",
    "axes[0, 1].set_ylabel('Number of Permits')\n",
    "axes[0, 1].set_xticks(range(1, 13))\n",
    "axes[0, 1].set_xticklabels(month_names, rotation=45)\n",
    "\n",
    "# Quarterly trend\n",
    "quarterly_solar = solar_permits.groupby(['issue_year', 'issue_quarter']).size().reset_index(name='count')\n",
    "pivot_quarterly = quarterly_solar.pivot(index='issue_year', columns='issue_quarter', values='count')\n",
    "pivot_quarterly.plot(kind='bar', ax=axes[1, 0], stacked=True)\n",
    "axes[1, 0].set_title('Solar Permits by Quarter', fontsize=14)\n",
    "axes[1, 0].set_xlabel('Year')\n",
    "axes[1, 0].set_ylabel('Number of Permits')\n",
    "axes[1, 0].legend(title='Quarter', labels=['Q1', 'Q2', 'Q3', 'Q4'])\n",
    "\n",
    "# Growth rate\n",
    "growth_rate = solar_by_year.pct_change() * 100\n",
    "growth_rate.dropna().plot(kind='bar', ax=axes[1, 1], color='green')\n",
    "axes[1, 1].set_title('Year-over-Year Growth Rate (%)', fontsize=14)\n",
    "axes[1, 1].set_xlabel('Year')\n",
    "axes[1, 1].set_ylabel('Growth Rate (%)')\n",
    "axes[1, 1].axhline(y=0, color='red', linestyle='--', alpha=0.5)\n",
    "\n",
    "plt.suptitle('Temporal Analysis of Solar Permits', fontsize=16)\n",
    "plt.tight_layout()\n",
    "plt.show()"
   ]
  },
  {
   "cell_type": "markdown",
   "metadata": {},
   "source": [
    "## 4. Solar System Capacity Analysis"
   ]
  },
  {
   "cell_type": "code",
   "execution_count": null,
   "metadata": {},
   "outputs": [],
   "source": [
    "# Extract capacity information from comments\n",
    "def extract_capacity(comment):\n",
    "    if pd.isna(comment):\n",
    "        return None\n",
    "    # Look for patterns like \"5.2 kW\", \"5.2kW\", \"5.2 KW\", etc.\n",
    "    patterns = [\n",
    "        r'(\\d+\\.?\\d*)\\s*[kK][wW]',\n",
    "        r'CAPACITY\\s*_*(\\d+\\.?\\d*)_*\\s*[kK][wW]',\n",
    "        r'CAPACITY\\s*(\\d+\\.?\\d*)\\s*[kK][wW]'\n",
    "    ]\n",
    "    \n",
    "    for pattern in patterns:\n",
    "        match = re.search(pattern, comment, re.IGNORECASE)\n",
    "        if match:\n",
    "            return float(match.group(1))\n",
    "    return None\n",
    "\n",
    "solar_permits['capacity_kw'] = solar_permits['comments'].apply(extract_capacity)\n",
    "valid_capacity = solar_permits[solar_permits['capacity_kw'].notna()]\n",
    "\n",
    "print(f\"Permits with extractable capacity: {len(valid_capacity)} ({len(valid_capacity)/len(solar_permits)*100:.1f}%)\")\n",
    "print(f\"\\nCapacity Statistics:\")\n",
    "print(valid_capacity['capacity_kw'].describe())"
   ]
  },
  {
   "cell_type": "code",
   "execution_count": null,
   "metadata": {},
   "outputs": [],
   "source": [
    "# Visualize capacity distribution\n",
    "fig, (ax1, ax2) = plt.subplots(1, 2, figsize=(15, 6))\n",
    "\n",
    "# Histogram of capacities\n",
    "valid_capacity['capacity_kw'].hist(bins=30, ax=ax1, edgecolor='black', alpha=0.7)\n",
    "ax1.set_title('Distribution of Solar System Capacities', fontsize=14)\n",
    "ax1.set_xlabel('Capacity (kW)')\n",
    "ax1.set_ylabel('Frequency')\n",
    "ax1.axvline(valid_capacity['capacity_kw'].median(), color='red', linestyle='dashed', linewidth=2, label=f'Median: {valid_capacity[\"capacity_kw\"].median():.2f} kW')\n",
    "ax1.legend()\n",
    "\n",
    "# Box plot by year\n",
    "valid_capacity_yearly = valid_capacity[valid_capacity['issue_year'] >= 2015]\n",
    "valid_capacity_yearly.boxplot(column='capacity_kw', by='issue_year', ax=ax2)\n",
    "ax2.set_title('Solar System Capacity by Year', fontsize=14)\n",
    "ax2.set_xlabel('Year')\n",
    "ax2.set_ylabel('Capacity (kW)')\n",
    "ax2.get_figure().suptitle('')\n",
    "\n",
    "plt.tight_layout()\n",
    "plt.show()"
   ]
  },
  {
   "cell_type": "markdown",
   "metadata": {},
   "source": [
    "## 5. Top Solar Installers Analysis"
   ]
  },
  {
   "cell_type": "code",
   "execution_count": null,
   "metadata": {},
   "outputs": [],
   "source": [
    "# Analyze top solar installers\n",
    "solar_installers = solar_permits['applicantName'].value_counts().head(15)\n",
    "print(\"Top 15 Solar Installers/Applicants:\")\n",
    "print(\"=\" * 50)\n",
    "for i, (installer, count) in enumerate(solar_installers.items(), 1):\n",
    "    print(f\"{i:2d}. {installer:<40} {count:>4} permits\")"
   ]
  },
  {
   "cell_type": "code",
   "execution_count": null,
   "metadata": {},
   "outputs": [],
   "source": [
    "# Visualize top installers\n",
    "plt.figure(figsize=(12, 8))\n",
    "solar_installers.plot(kind='barh', color='coral')\n",
    "plt.title('Top 15 Solar Installers by Number of Permits', fontsize=16)\n",
    "plt.xlabel('Number of Permits', fontsize=12)\n",
    "plt.ylabel('Installer/Applicant', fontsize=12)\n",
    "plt.tight_layout()\n",
    "plt.show()"
   ]
  },
  {
   "cell_type": "code",
   "execution_count": null,
   "metadata": {},
   "outputs": [],
   "source": [
    "# Analyze market share of top installers\n",
    "top_5_installers = solar_installers.head(5)\n",
    "other_count = len(solar_permits) - top_5_installers.sum()\n",
    "market_share = pd.Series({\n",
    "    **dict(top_5_installers),\n",
    "    'Others': other_count\n",
    "})\n",
    "\n",
    "plt.figure(figsize=(10, 8))\n",
    "colors = plt.cm.Set3(range(len(market_share)))\n",
    "plt.pie(market_share.values, labels=market_share.index, autopct='%1.1f%%', startangle=90, colors=colors)\n",
    "plt.title('Market Share of Solar Installers', fontsize=16)\n",
    "plt.axis('equal')\n",
    "plt.show()"
   ]
  },
  {
   "cell_type": "markdown",
   "metadata": {},
   "source": [
    "## 6. Geographic Distribution of Solar Permits"
   ]
  },
  {
   "cell_type": "code",
   "execution_count": null,
   "metadata": {},
   "outputs": [],
   "source": [
    "# Analyze solar permits by neighborhood\n",
    "solar_neighborhoods = solar_permits['Neighborhoods_Desc'].value_counts().head(20)\n",
    "print(f\"Solar permits are distributed across {solar_permits['Neighborhoods_Desc'].nunique()} neighborhoods\")\n",
    "print(\"\\nTop 20 Neighborhoods for Solar Installations:\")\n",
    "print(solar_neighborhoods)"
   ]
  },
  {
   "cell_type": "code",
   "execution_count": null,
   "metadata": {},
   "outputs": [],
   "source": [
    "# Visualize neighborhood distribution\n",
    "fig, (ax1, ax2) = plt.subplots(1, 2, figsize=(16, 8))\n",
    "\n",
    "# Bar chart of top neighborhoods\n",
    "solar_neighborhoods.head(10).plot(kind='barh', ax=ax1, color='lightgreen')\n",
    "ax1.set_title('Top 10 Neighborhoods by Solar Permits', fontsize=14)\n",
    "ax1.set_xlabel('Number of Solar Permits')\n",
    "\n",
    "# Ward distribution\n",
    "ward_solar = solar_permits['Wards'].value_counts().sort_index()\n",
    "ward_solar.plot(kind='bar', ax=ax2, color='lightblue')\n",
    "ax2.set_title('Solar Permits by Ward', fontsize=14)\n",
    "ax2.set_xlabel('Ward')\n",
    "ax2.set_ylabel('Number of Solar Permits')\n",
    "\n",
    "plt.tight_layout()\n",
    "plt.show()"
   ]
  },
  {
   "cell_type": "markdown",
   "metadata": {},
   "source": [
    "## 7. Solar Permit Status and Duration Analysis"
   ]
  },
  {
   "cell_type": "code",
   "execution_count": null,
   "metadata": {},
   "outputs": [],
   "source": [
    "# Analyze permit status\n",
    "solar_status = solar_permits['status'].value_counts()\n",
    "print(\"Solar Permit Status Distribution:\")\n",
    "print(solar_status)\n",
    "print(f\"\\nCompletion rate: {(solar_status.get('Closed', 0) / len(solar_permits) * 100):.1f}%\")"
   ]
  },
  {
   "cell_type": "code",
   "execution_count": null,
   "metadata": {},
   "outputs": [],
   "source": [
    "# Calculate permit duration for completed permits\n",
    "solar_permits['duration_days'] = (solar_permits['completeDate'] - solar_permits['issueDate']).dt.days\n",
    "completed_solar = solar_permits[(solar_permits['status'] == 'Closed') & (solar_permits['duration_days'] > 0) & (solar_permits['duration_days'] < 1000)]\n",
    "\n",
    "print(\"Solar Permit Duration Statistics (in days):\")\n",
    "print(completed_solar['duration_days'].describe())\n",
    "\n",
    "# Visualize duration\n",
    "plt.figure(figsize=(10, 6))\n",
    "completed_solar['duration_days'].hist(bins=50, edgecolor='black', alpha=0.7)\n",
    "plt.title('Distribution of Solar Permit Duration', fontsize=16)\n",
    "plt.xlabel('Duration (days)')\n",
    "plt.ylabel('Frequency')\n",
    "plt.axvline(completed_solar['duration_days'].median(), color='red', linestyle='dashed', linewidth=2, label=f'Median: {completed_solar[\"duration_days\"].median():.0f} days')\n",
    "plt.legend()\n",
    "plt.tight_layout()\n",
    "plt.show()"
   ]
  },
  {
   "cell_type": "markdown",
   "metadata": {},
   "source": [
    "## 8. Financial Analysis of Solar Permits"
   ]
  },
  {
   "cell_type": "code",
   "execution_count": null,
   "metadata": {},
   "outputs": [],
   "source": [
    "# Analyze permit values and fees\n",
    "solar_permits['value'] = pd.to_numeric(solar_permits['value'], errors='coerce')\n",
    "solar_permits['totalFees'] = pd.to_numeric(solar_permits['totalFees'], errors='coerce')\n",
    "\n",
    "valid_values = solar_permits[solar_permits['value'] > 0]\n",
    "print(\"Solar Permit Value Statistics:\")\n",
    "print(valid_values['value'].describe())\n",
    "print(f\"\\nTotal value of solar permits: ${valid_values['value'].sum():,.2f}\")\n",
    "print(f\"Average value per permit: ${valid_values['value'].mean():,.2f}\")"
   ]
  },
  {
   "cell_type": "code",
   "execution_count": null,
   "metadata": {},
   "outputs": [],
   "source": [
    "# Analyze relationship between capacity and value\n",
    "capacity_value = solar_permits[(solar_permits['capacity_kw'].notna()) & (solar_permits['value'] > 0)]\n",
    "\n",
    "plt.figure(figsize=(10, 6))\n",
    "plt.scatter(capacity_value['capacity_kw'], capacity_value['value'], alpha=0.6)\n",
    "plt.xlabel('System Capacity (kW)', fontsize=12)\n",
    "plt.ylabel('Permit Value ($)', fontsize=12)\n",
    "plt.title('Solar System Capacity vs Permit Value', fontsize=16)\n",
    "\n",
    "# Add trend line\n",
    "if len(capacity_value) > 10:\n",
    "    z = np.polyfit(capacity_value['capacity_kw'], capacity_value['value'], 1)\n",
    "    p = np.poly1d(z)\n",
    "    plt.plot(capacity_value['capacity_kw'].sort_values(), p(capacity_value['capacity_kw'].sort_values()), \"r--\", alpha=0.8, label=f'Trend: ${z[0]:.0f}/kW')\n",
    "    plt.legend()\n",
    "\n",
    "plt.grid(True, alpha=0.3)\n",
    "plt.tight_layout()\n",
    "plt.show()"
   ]
  },
  {
   "cell_type": "markdown",
   "metadata": {},
   "source": [
    "## 9. Seasonal Patterns in Solar Installations"
   ]
  },
  {
   "cell_type": "code",
   "execution_count": null,
   "metadata": {},
   "outputs": [],
   "source": [
    "# Create a heatmap of solar permits by year and month\n",
    "solar_heatmap_data = solar_permits.pivot_table(values='permitNumber', index='issue_year', columns='issue_month', aggfunc='count', fill_value=0)\n",
    "\n",
    "plt.figure(figsize=(12, 8))\n",
    "sns.heatmap(solar_heatmap_data, cmap='YlOrRd', annot=True, fmt='d', cbar_kws={'label': 'Number of Solar Permits'})\n",
    "plt.title('Heatmap of Solar Permits by Year and Month', fontsize=16)\n",
    "plt.xlabel('Month', fontsize=12)\n",
    "plt.ylabel('Year', fontsize=12)\n",
    "month_labels = ['Jan', 'Feb', 'Mar', 'Apr', 'May', 'Jun', 'Jul', 'Aug', 'Sep', 'Oct', 'Nov', 'Dec']\n",
    "plt.xticks(range(12), month_labels)\n",
    "plt.tight_layout()\n",
    "plt.show()"
   ]
  },
  {
   "cell_type": "markdown",
   "metadata": {},
   "source": [
    "## 10. Summary and Key Insights"
   ]
  },
  {
   "cell_type": "code",
   "execution_count": null,
   "metadata": {},
   "outputs": [],
   "source": [
    "# Generate comprehensive summary\n",
    "print(\"=\" * 80)\n",
    "print(\"SOLAR PERMITS ANALYSIS SUMMARY\")\n",
    "print(\"=\" * 80)\n",
    "print(f\"\\nTotal solar permits: {len(solar_permits):,}\")\n",
    "print(f\"Percentage of all permits: {len(solar_permits)/len(df)*100:.2f}%\")\n",
    "print(f\"Date range: {solar_permits['issueDate'].min().strftime('%Y-%m-%d')} to {solar_permits['issueDate'].max().strftime('%Y-%m-%d')}\")\n",
    "\n",
    "print(f\"\\nTop installer: {solar_installers.index[0]} ({solar_installers.iloc[0]} permits)\")\n",
    "print(f\"Most active neighborhood: {solar_neighborhoods.index[0]} ({solar_neighborhoods.iloc[0]} permits)\")\n",
    "\n",
    "if len(valid_capacity) > 0:\n",
    "    print(f\"\\nCapacity Statistics:\")\n",
    "    print(f\"  - Average system size: {valid_capacity['capacity_kw'].mean():.2f} kW\")\n",
    "    print(f\"  - Median system size: {valid_capacity['capacity_kw'].median():.2f} kW\")\n",
    "    print(f\"  - Total installed capacity: {valid_capacity['capacity_kw'].sum():,.0f} kW\")\n",
    "\n",
    "if len(valid_values) > 0:\n",
    "    print(f\"\\nFinancial Statistics:\")\n",
    "    print(f\"  - Total permit value: ${valid_values['value'].sum():,.2f}\")\n",
    "    print(f\"  - Average permit value: ${valid_values['value'].mean():,.2f}\")\n",
    "\n",
    "print(f\"\\nPermit completion rate: {(solar_status.get('Closed', 0) / len(solar_permits) * 100):.1f}%\")\n",
    "if len(completed_solar) > 0:\n",
    "    print(f\"Average permit duration: {completed_solar['duration_days'].mean():.0f} days\")\n",
    "\n",
    "# Year-over-year growth\n",
    "recent_years = solar_by_year[solar_by_year.index >= 2020]\n",
    "if len(recent_years) > 1:\n",
    "    growth_2020_2023 = ((recent_years.iloc[-1] - recent_years.iloc[0]) / recent_years.iloc[0] * 100)\n",
    "    print(f\"\\nGrowth from {recent_years.index[0]} to {recent_years.index[-1]}: {growth_2020_2023:.1f}%\")\n",
    "\n",
    "print(\"\\n\" + \"=\" * 80)"
   ]
  },
  {
   "cell_type": "code",
   "execution_count": null,
   "metadata": {},
   "outputs": [],
   "source": [
    "# Create a summary dashboard\n",
    "fig, axes = plt.subplots(2, 2, figsize=(16, 12))\n",
    "\n",
    "# Plot 1: Yearly trend\n",
    "solar_by_year.plot(kind='line', ax=axes[0, 0], marker='o', color='orange', linewidth=2, markersize=8)\n",
    "axes[0, 0].set_title('Solar Permits by Year', fontsize=14)\n",
    "axes[0, 0].set_xlabel('Year')\n",
    "axes[0, 0].set_ylabel('Number of Permits')\n",
    "axes[0, 0].grid(True, alpha=0.3)\n",
    "\n",
    "# Plot 2: Top installers\n",
    "solar_installers.head(5).plot(kind='bar', ax=axes[0, 1], color='coral')\n",
    "axes[0, 1].set_title('Top 5 Solar Installers', fontsize=14)\n",
    "axes[0, 1].set_xlabel('Installer')\n",
    "axes[0, 1].set_ylabel('Number of Permits')\n",
    "axes[0, 1].tick_params(axis='x', rotation=45)\n",
    "\n",
    "# Plot 3: Capacity distribution\n",
    "if len(valid_capacity) > 0:\n",
    "    valid_capacity['capacity_kw'].hist(bins=20, ax=axes[1, 0], edgecolor='black', alpha=0.7, color='lightgreen')\n",
    "    axes[1, 0].set_title('Distribution of System Capacities', fontsize=14)\n",
    "    axes[1, 0].set_xlabel('Capacity (kW)')\n",
    "    axes[1, 0].set_ylabel('Frequency')\n",
    "else:\n",
    "    axes[1, 0].text(0.5, 0.5, 'No capacity data available', ha='center', va='center', transform=axes[1, 0].transAxes)\n",
    "\n",
    "# Plot 4: Monthly seasonality\n",
    "monthly_avg = solar_permits.groupby('issue_month').size()\n",
    "axes[1, 1].bar(monthly_avg.index, monthly_avg.values, color='skyblue')\n",
    "axes[1, 1].set_title('Solar Permits by Month (All Years)', fontsize=14)\n",
    "axes[1, 1].set_xlabel('Month')\n",
    "axes[1, 1].set_ylabel('Total Permits')\n",
    "axes[1, 1].set_xticks(range(1, 13))\n",
    "axes[1, 1].set_xticklabels(['Jan', 'Feb', 'Mar', 'Apr', 'May', 'Jun', 'Jul', 'Aug', 'Sep', 'Oct', 'Nov', 'Dec'], rotation=45)\n",
    "\n",
    "plt.suptitle('Solar Permits Analysis Dashboard', fontsize=18, y=1.02)\n",
    "plt.tight_layout()\n",
    "plt.show()"
   ]
  }
 ],
 "metadata": {
  "kernelspec": {
   "display_name": "Python 3",
   "language": "python",
   "name": "python3"
  },
  "language_info": {
   "codemirror_mode": {
    "name": "ipython",
    "version": 3
   },
   "file_extension": ".py",
   "mimetype": "text/x-python",
   "name": "python",
   "nbconvert_exporter": "python",
   "pygments_lexer": "ipython3",
   "version": "3.8.0"
  }
 },
 "nbformat": 4,
 "nbformat_minor": 4
}