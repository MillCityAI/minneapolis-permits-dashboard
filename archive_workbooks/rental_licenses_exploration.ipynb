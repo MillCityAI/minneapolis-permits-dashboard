{
 "cells": [
  {
   "cell_type": "markdown",
   "metadata": {},
   "source": [
    "# Active Rental Licenses Data Exploration\n",
    "\n",
    "This notebook explores the Active Rental Licenses dataset from Minneapolis."
   ]
  },
  {
   "cell_type": "code",
   "execution_count": null,
   "metadata": {},
   "outputs": [],
   "source": "import pandas as pd\nimport numpy as np\nimport matplotlib.pyplot as plt\nimport seaborn as sns\nfrom datetime import datetime\n\n# Set display options\npd.set_option('display.max_columns', None)\npd.set_option('display.max_colwidth', 50)\n\n# Set matplotlib style\ntry:\n    plt.style.use('seaborn-v0_8-darkgrid')\nexcept:\n    try:\n        plt.style.use('seaborn-darkgrid')\n    except:\n        print('Using default matplotlib style')"
  },
  {
   "cell_type": "markdown",
   "metadata": {},
   "source": [
    "## Load the Data"
   ]
  },
  {
   "cell_type": "code",
   "execution_count": null,
   "metadata": {},
   "outputs": [],
   "source": [
    "# Load the CSV file\n",
    "df = pd.read_csv('source/Active_Rental_Licenses.csv')\n",
    "\n",
    "# Display basic information\n",
    "print(f\"Dataset shape: {df.shape}\")\n",
    "print(f\"\\nColumns ({len(df.columns)}):\")\n",
    "for i, col in enumerate(df.columns):\n",
    "    print(f\"{i+1:2d}. {col}\")"
   ]
  },
  {
   "cell_type": "markdown",
   "metadata": {},
   "source": [
    "## Data Overview"
   ]
  },
  {
   "cell_type": "code",
   "execution_count": null,
   "metadata": {},
   "outputs": [],
   "source": [
    "# Display first few rows\n",
    "df.head()"
   ]
  },
  {
   "cell_type": "code",
   "execution_count": null,
   "metadata": {},
   "outputs": [],
   "source": [
    "# Data types and null values\n",
    "df.info()"
   ]
  },
  {
   "cell_type": "code",
   "execution_count": null,
   "metadata": {},
   "outputs": [],
   "source": [
    "# Summary statistics for numeric columns\n",
    "df.describe()"
   ]
  },
  {
   "cell_type": "markdown",
   "metadata": {},
   "source": [
    "## Data Cleaning"
   ]
  },
  {
   "cell_type": "code",
   "execution_count": null,
   "metadata": {},
   "outputs": [],
   "source": [
    "# Convert date columns to datetime\n",
    "date_columns = ['issueDate', 'expirationDate']\n",
    "for col in date_columns:\n",
    "    df[col] = pd.to_datetime(df[col], errors='coerce')\n",
    "\n",
    "# Display date range\n",
    "print(f\"Issue dates range: {df['issueDate'].min()} to {df['issueDate'].max()}\")\n",
    "print(f\"Expiration dates range: {df['expirationDate'].min()} to {df['expirationDate'].max()}\")"
   ]
  },
  {
   "cell_type": "markdown",
   "metadata": {},
   "source": [
    "## License Categories Analysis"
   ]
  },
  {
   "cell_type": "code",
   "execution_count": null,
   "metadata": {},
   "outputs": [],
   "source": [
    "# License category distribution\n",
    "category_counts = df['category'].value_counts()\n",
    "print(\"License Categories:\")\n",
    "print(category_counts)\n",
    "\n",
    "# Visualize\n",
    "plt.figure(figsize=(10, 6))\n",
    "category_counts.plot(kind='bar')\n",
    "plt.title('Distribution of License Categories')\n",
    "plt.xlabel('Category')\n",
    "plt.ylabel('Count')\n",
    "plt.xticks(rotation=45)\n",
    "plt.tight_layout()\n",
    "plt.show()"
   ]
  },
  {
   "cell_type": "code",
   "execution_count": null,
   "metadata": {},
   "outputs": [],
   "source": [
    "# Status distribution\n",
    "status_counts = df['status'].value_counts()\n",
    "print(\"License Status:\")\n",
    "print(status_counts)\n",
    "\n",
    "# Pie chart\n",
    "plt.figure(figsize=(8, 8))\n",
    "plt.pie(status_counts.values, labels=status_counts.index, autopct='%1.1f%%')\n",
    "plt.title('License Status Distribution')\n",
    "plt.show()"
   ]
  },
  {
   "cell_type": "markdown",
   "metadata": {},
   "source": [
    "## Geographic Analysis"
   ]
  },
  {
   "cell_type": "code",
   "execution_count": null,
   "metadata": {},
   "outputs": [],
   "source": [
    "# Ward distribution\n",
    "ward_counts = df['ward'].value_counts().sort_index()\n",
    "print(\"Licenses by Ward:\")\n",
    "print(ward_counts)\n",
    "\n",
    "plt.figure(figsize=(12, 6))\n",
    "ward_counts.plot(kind='bar')\n",
    "plt.title('Number of Rental Licenses by Ward')\n",
    "plt.xlabel('Ward')\n",
    "plt.ylabel('Number of Licenses')\n",
    "plt.tight_layout()\n",
    "plt.show()"
   ]
  },
  {
   "cell_type": "code",
   "execution_count": null,
   "metadata": {},
   "outputs": [],
   "source": [
    "# Top neighborhoods\n",
    "neighborhood_counts = df['neighborhoodDesc'].value_counts().head(15)\n",
    "print(\"Top 15 Neighborhoods by License Count:\")\n",
    "print(neighborhood_counts)\n",
    "\n",
    "plt.figure(figsize=(12, 8))\n",
    "neighborhood_counts.plot(kind='barh')\n",
    "plt.title('Top 15 Neighborhoods by Rental License Count')\n",
    "plt.xlabel('Number of Licenses')\n",
    "plt.ylabel('Neighborhood')\n",
    "plt.tight_layout()\n",
    "plt.show()"
   ]
  },
  {
   "cell_type": "markdown",
   "metadata": {},
   "source": [
    "## Licensed Units Analysis"
   ]
  },
  {
   "cell_type": "code",
   "execution_count": null,
   "metadata": {},
   "outputs": [],
   "source": [
    "# Licensed units statistics\n",
    "print(\"Licensed Units Statistics:\")\n",
    "print(df['licensedUnits'].describe())\n",
    "\n",
    "# Distribution of licensed units\n",
    "plt.figure(figsize=(10, 6))\n",
    "df['licensedUnits'].value_counts().sort_index().plot(kind='bar')\n",
    "plt.title('Distribution of Licensed Units per Property')\n",
    "plt.xlabel('Number of Licensed Units')\n",
    "plt.ylabel('Count')\n",
    "plt.tight_layout()\n",
    "plt.show()"
   ]
  },
  {
   "cell_type": "code",
   "execution_count": null,
   "metadata": {},
   "outputs": [],
   "source": [
    "# Total units by ward\n",
    "units_by_ward = df.groupby('ward')['licensedUnits'].sum().sort_values(ascending=False)\n",
    "print(\"Total Licensed Units by Ward:\")\n",
    "print(units_by_ward)\n",
    "\n",
    "plt.figure(figsize=(10, 6))\n",
    "units_by_ward.plot(kind='bar')\n",
    "plt.title('Total Licensed Units by Ward')\n",
    "plt.xlabel('Ward')\n",
    "plt.ylabel('Total Licensed Units')\n",
    "plt.tight_layout()\n",
    "plt.show()"
   ]
  },
  {
   "cell_type": "markdown",
   "metadata": {},
   "source": [
    "## Short-Term Rental Analysis"
   ]
  },
  {
   "cell_type": "code",
   "execution_count": null,
   "metadata": {},
   "outputs": [],
   "source": [
    "# Short-term rental distribution\n",
    "str_counts = df['shortTermRental'].value_counts()\n",
    "print(\"Short-Term Rental Status:\")\n",
    "print(str_counts)\n",
    "\n",
    "# Percentage of short-term rentals\n",
    "str_percentage = (str_counts.get('Yes', 0) / len(df)) * 100\n",
    "print(f\"\\nPercentage of Short-Term Rentals: {str_percentage:.2f}%\")"
   ]
  },
  {
   "cell_type": "markdown",
   "metadata": {},
   "source": [
    "## Time-based Analysis"
   ]
  },
  {
   "cell_type": "code",
   "execution_count": null,
   "metadata": {},
   "outputs": [],
   "source": [
    "# Extract year from issue date\n",
    "df['issueYear'] = df['issueDate'].dt.year\n",
    "\n",
    "# Licenses issued by year\n",
    "yearly_issues = df['issueYear'].value_counts().sort_index()\n",
    "print(\"Licenses Issued by Year:\")\n",
    "print(yearly_issues.tail(10))  # Last 10 years\n",
    "\n",
    "plt.figure(figsize=(12, 6))\n",
    "yearly_issues[yearly_issues.index >= 2015].plot(kind='bar')\n",
    "plt.title('Rental Licenses Issued by Year (2015-Present)')\n",
    "plt.xlabel('Year')\n",
    "plt.ylabel('Number of Licenses Issued')\n",
    "plt.tight_layout()\n",
    "plt.show()"
   ]
  },
  {
   "cell_type": "code",
   "execution_count": null,
   "metadata": {},
   "outputs": [],
   "source": [
    "# Upcoming expirations\n",
    "today = pd.Timestamp.now()\n",
    "df['daysToExpiration'] = (df['expirationDate'] - today).dt.days\n",
    "\n",
    "# Licenses expiring soon (within 90 days)\n",
    "expiring_soon = df[(df['daysToExpiration'] > 0) & (df['daysToExpiration'] <= 90)]\n",
    "print(f\"Licenses expiring within 90 days: {len(expiring_soon)}\")\n",
    "\n",
    "# Already expired\n",
    "expired = df[df['daysToExpiration'] < 0]\n",
    "print(f\"Already expired licenses: {len(expired)}\")"
   ]
  },
  {
   "cell_type": "markdown",
   "metadata": {},
   "source": [
    "## Owner Analysis"
   ]
  },
  {
   "cell_type": "code",
   "execution_count": null,
   "metadata": {},
   "outputs": [],
   "source": [
    "# Top property owners by number of licenses\n",
    "top_owners = df['ownerName'].value_counts().head(20)\n",
    "print(\"Top 20 Property Owners by License Count:\")\n",
    "for i, (owner, count) in enumerate(top_owners.items(), 1):\n",
    "    print(f\"{i:2d}. {owner}: {count} licenses\")"
   ]
  },
  {
   "cell_type": "code",
   "execution_count": null,
   "metadata": {},
   "outputs": [],
   "source": [
    "# Owner location analysis (by state)\n",
    "owner_states = df['ownerState'].value_counts().head(10)\n",
    "print(\"Top 10 Owner States:\")\n",
    "print(owner_states)\n",
    "\n",
    "# Percentage of out-of-state owners\n",
    "out_of_state = df[df['ownerState'] != 'MN'].shape[0]\n",
    "out_of_state_pct = (out_of_state / len(df)) * 100\n",
    "print(f\"\\nPercentage of out-of-state owners: {out_of_state_pct:.2f}%\")"
   ]
  },
  {
   "cell_type": "markdown",
   "metadata": {},
   "source": [
    "## Geographic Visualization"
   ]
  },
  {
   "cell_type": "code",
   "execution_count": null,
   "metadata": {},
   "outputs": [],
   "source": [
    "# Scatter plot of rental properties\n",
    "plt.figure(figsize=(12, 10))\n",
    "plt.scatter(df['longitude'], df['latitude'], alpha=0.5, s=10)\n",
    "plt.title('Geographic Distribution of Rental Properties in Minneapolis')\n",
    "plt.xlabel('Longitude')\n",
    "plt.ylabel('Latitude')\n",
    "plt.grid(True, alpha=0.3)\n",
    "plt.tight_layout()\n",
    "plt.show()"
   ]
  },
  {
   "cell_type": "code",
   "execution_count": null,
   "metadata": {},
   "outputs": [],
   "source": [
    "# Color-coded by ward\n",
    "plt.figure(figsize=(14, 10))\n",
    "scatter = plt.scatter(df['longitude'], df['latitude'], \n",
    "                     c=df['ward'], cmap='tab20', alpha=0.6, s=20)\n",
    "plt.colorbar(scatter, label='Ward')\n",
    "plt.title('Rental Properties by Ward')\n",
    "plt.xlabel('Longitude')\n",
    "plt.ylabel('Latitude')\n",
    "plt.grid(True, alpha=0.3)\n",
    "plt.tight_layout()\n",
    "plt.show()"
   ]
  },
  {
   "cell_type": "markdown",
   "metadata": {},
   "source": [
    "## Summary Statistics"
   ]
  },
  {
   "cell_type": "code",
   "execution_count": null,
   "metadata": {},
   "outputs": [],
   "source": [
    "# Generate summary report\n",
    "print(\"=== MINNEAPOLIS RENTAL LICENSE SUMMARY ===\")\n",
    "print(f\"\\nTotal Active Licenses: {len(df):,}\")\n",
    "print(f\"Total Licensed Units: {df['licensedUnits'].sum():,}\")\n",
    "print(f\"\\nLicense Categories:\")\n",
    "for cat, count in df['category'].value_counts().items():\n",
    "    print(f\"  - {cat}: {count:,} ({count/len(df)*100:.1f}%)\")\n",
    "print(f\"\\nShort-Term Rentals: {(df['shortTermRental'] == 'Yes').sum():,}\")\n",
    "print(f\"Delinquent Licenses: {(df['status'] == 'Delinquent').sum():,}\")\n",
    "print(f\"\\nAverage units per license: {df['licensedUnits'].mean():.2f}\")\n",
    "print(f\"Median units per license: {df['licensedUnits'].median():.0f}\")\n",
    "print(f\"\\nUnique property owners: {df['ownerName'].nunique():,}\")\n",
    "print(f\"Out-of-state owners: {out_of_state:,} ({out_of_state_pct:.1f}%)\")"
   ]
  }
 ],
 "metadata": {
  "kernelspec": {
   "display_name": "Python 3",
   "language": "python",
   "name": "python3"
  },
  "language_info": {
   "codemirror_mode": {
    "name": "ipython",
    "version": 3
   },
   "file_extension": ".py",
   "mimetype": "text/x-python",
   "name": "python",
   "nbconvert_exporter": "python",
   "pygments_lexer": "ipython3",
   "version": "3.8.0"
  }
 },
 "nbformat": 4,
 "nbformat_minor": 4
}